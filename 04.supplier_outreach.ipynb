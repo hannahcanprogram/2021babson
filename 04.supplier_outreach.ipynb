{
 "cells": [
  {
   "cell_type": "code",
   "execution_count": null,
   "metadata": {},
   "outputs": [],
   "source": [
    "import pandas as pd\n",
    "df_history = pd.read_csv('D:\\\\OneDrive\\\\Desktop\\\\Babson\\\\Customer_In Stock_Dataset_Final.csv',encoding= 'unicode_escape')\n",
    "df_forward = pd.read_csv('D:\\\\OneDrive\\\\Desktop\\\\Babson\\\\Forward Coverage Dataset Final.csv',encoding= 'unicode_escape' )\n",
    "df_forward_1 = df_forward[['Date', 'Forecast', 'qty_fulfilled_oh', 'qty_fulfilled_oo', 'qty_fulfilled_if', 'qty_fulfilled_l2']]\n",
    "df_forward['Actual sales'] = df_forward['Forecast']\n",
    "df_forward['Covered sales'] = df_forward['qty_fulfilled_oh'] + df_forward['qty_fulfilled_oo'] + df_forward['qty_fulfilled_if'] + df_forward['qty_fulfilled_l2']\n",
    "df_forward['Missed value'] = df_forward['Actual sales'] - df_forward['Covered sales']\n",
    "df_forward['instock%'] = df_forward['Covered sales'] / df_forward['Actual sales']\n",
    "df_forward['Demand'] = df_forward['Forecast'] / df_forward['WholesaleCost']\n",
    "df_forward_sub = df_forward.loc[:, ['Date', 'SKU', 'suid', 'Country', 'ItemClass', 'ItemMarketingCategory', 'ItemShipClass', 'Actual sales', 'Covered sales', 'Missed value', 'instock%', 'Demand']]\n",
    "df_foward_sub = df_forward_sub[df_forward_sub['Country'] == 'United States']\n",
    "df_history = df_history[df_history['Country'] == 'United States']\n",
    "history = df_history.groupby(['ItemMarketingCategory'])['suid'].nunique()\n",
    "forward = df_foward_sub.groupby(['ItemMarketingCategory'])['suid'].nunique()\n",
    "df_history = pd.DataFrame(history.values, index = history.index, columns = ['SupplierCount_his'])\n",
    "df_forward = pd.DataFrame(forward.values, index = forward.index, columns = ['SupplierCount_for'])\n",
    "result = pd.concat([df_forward, df_history], axis=1, join=\"inner\")\n",
    "result['%change'] = (result['SupplierCount_for'] - result['SupplierCount_his']) / result['SupplierCount_his'] * 100\n",
    "result.sort_values('%change', ascending = False, inplace = True)\n",
    "result\n",
    "priority_Score = pd.read_csv('D:\\\\OneDrive\\\\Desktop\\\\babson\\\\final_positive_data.csv')\n",
    "priority_Score = priority_Score.loc[:,['SKU', 'Priority_score', 'ItemMarketingCategory']]\n",
    "\n",
    "priority_Score = priority_Score.groupby('ItemMarketingCategory')['Priority_score'].mean()\n",
    "priority_Score = pd.DataFrame(priority_Score.values, index = priority_Score.index, columns = ['priority_score'])\n",
    "result = pd.concat([result, priority_Score], axis = 1 ,join = 'inner')\n",
    "result['Metric_After_Priority_Score'] = result['%change'] * result['priority_score']\n",
    "result.sort_values('Metric_After_Priority_Score', inplace = True)\n",
    "result.reset_index(inplace = True)\n",
    "\n",
    "import seaborn as sns\n",
    "import matplotlib.pyplot as plt\n",
    "result.head()\n",
    "result.sort_values('%change', inplace = True)\n",
    "ax = sns.barplot(x = 'ItemMarketingCategory', y = '%change', data = result, palette='Reds_r')\n",
    "\n",
    "plt.xticks(rotation=90, fontsize = 7)\n",
    "plt.ylabel('Change%')\n",
    "plt.title('Change% of #Suppliers for Categories', fontsize = 17)\n",
    "# norm = plt.Normalize(result['%change'].min(), result['%change'].max())\n",
    "# sm = plt.cm.ScalarMappable(cmap=\"Reds\", norm=norm)\n",
    "# cbar = plt.colorbar(sm)\n",
    "plt.xlabel('x axis:different item class categories')\n",
    "png1 = ax.get_figure()\n",
    "plt.savefig('D:\\\\OneDrive\\\\Desktop\\\\Babson\\\\plot.jpeg', dpi=300, bbox_inches='tight')"
   ]
  }
 ],
 "metadata": {
  "kernelspec": {
   "display_name": "Python 3",
   "language": "python",
   "name": "python3"
  },
  "language_info": {
   "codemirror_mode": {
    "name": "ipython",
    "version": 3
   },
   "file_extension": ".py",
   "mimetype": "text/x-python",
   "name": "python",
   "nbconvert_exporter": "python",
   "pygments_lexer": "ipython3",
   "version": "3.7.6"
  }
 },
 "nbformat": 4,
 "nbformat_minor": 4
}
